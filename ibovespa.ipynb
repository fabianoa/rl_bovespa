{
 "nbformat": 4,
 "nbformat_minor": 2,
 "metadata": {
  "language_info": {
   "name": "python",
   "codemirror_mode": {
    "name": "ipython",
    "version": 3
   },
   "version": "3.7.4"
  },
  "orig_nbformat": 2,
  "file_extension": ".py",
  "mimetype": "text/x-python",
  "name": "python",
  "npconvert_exporter": "python",
  "pygments_lexer": "ipython3",
  "version": 3
 },
 "cells": [
  {
   "cell_type": "code",
   "execution_count": 6,
   "metadata": {},
   "outputs": [],
   "source": [
    "import numpy as np\n",
    "import matplotlib.pyplot as plt\n",
    "import pandas as pd\n",
    "import os \n",
    "from sklearn.preprocessing import MinMaxScaler"
   ]
  },
  {
   "cell_type": "code",
   "execution_count": 2,
   "metadata": {},
   "outputs": [],
   "source": [
    "import pandas as pd\n",
    "from datetime import datetime\n",
    "\n",
    "col_names = ['tipo_registro', 'data_pregao', 'cod_bdi', 'cod_negociacao', 'tipo_mercado', 'nome_resumido','especificacao_papel', 'prazo_mercado_termo', 'moeda_ref','preco_abertura','preco_maximo','preco_minimo', 'preco_medio', 'preco_ultimo_negocio', 'preco_melhor_oferta_compra', 'preco_melhor_oferta_venda', 'quantidade_negocios', 'quantidade_titulos_negociados','volume_total_titulos_negociados', 'preco_exercicio_mercado_opcoes', 'indicador_correcao_preco_exercicio', 'data_vencimento_mercado_opcoes','fator_cotacao','preco_exercicio_em_pontos','cod_interno_papel','numero_dist_papel' ]\n",
    "\n",
    "colspecs = [(0, 2), (2, 10), (10, 12),(12, 23), (23, 27), (27, 39),(39, 49),(49, 52),(52, 56),(56, 69),(69, 82),(82, 95),(95, 108),(108, 121),(121, 134),(134, 147),(147, 152),(152, 170),(170, 188),(188, 201),(201, 202),(202, 210),(210, 217),(217, 230),(230, 242),(242, 245)]\n",
    "\n",
    "converters={'preco_abertura': lambda x: float(x)/100,\n",
    "            'preco_maximo': lambda x: float(x)/100,\n",
    "            'preco_minimo': lambda x: float(x)/100,\n",
    "            'preco_medio': lambda x: float(x)/100,\n",
    "            'preco_ultimo_negocio': lambda x: float(x)/100,\n",
    "            'preco_melhor_oferta_compra': lambda x: float(x)/100,\n",
    "            'preco_melhor_oferta_venda': lambda x: float(x)/100,\n",
    "            'preco_exercicio_mercado_opcoes': lambda x: float(x)/100,\n",
    "            'quantidade_negocios': lambda x: int(x, 16),\n",
    "            'quantidade_titulos_negociados': lambda x: int(x, 16),\n",
    "            'prazo_mercado_termo': lambda x: int(x, 16),\n",
    "            'data_pregao': lambda x: datetime.strptime(x , '%Y%m%d')\n",
    "            \n",
    "           }\n",
    "\n",
    "df_2008 = pd.read_fwf('data/historico_bovespa/COTAHIST_A2008.TXT',colspecs=colspecs, skipfooter=1, skiprows=1, names=col_names, converters=converters)\n",
    "df_2009 = pd.read_fwf('data/historico_bovespa/COTAHIST_A2009.TXT',colspecs=colspecs, skipfooter=1, skiprows=1, names=col_names, converters=converters)\n",
    "df_2010 = pd.read_fwf('data/historico_bovespa/COTAHIST_A2010.TXT',colspecs=colspecs, skipfooter=1, skiprows=1, names=col_names, converters=converters)\n",
    "df_2011 = pd.read_fwf('data/historico_bovespa/COTAHIST_A2011.TXT',colspecs=colspecs, skipfooter=1, skiprows=1, names=col_names, converters=converters)\n",
    "df_2012 = pd.read_fwf('data/historico_bovespa/COTAHIST_A2012.TXT',colspecs=colspecs, skipfooter=1, skiprows=1, names=col_names, converters=converters)\n",
    "df_2013 = pd.read_fwf('data/historico_bovespa/COTAHIST_A2013.TXT',colspecs=colspecs, skipfooter=1, skiprows=1, names=col_names, converters=converters)\n",
    "df_2014 = pd.read_fwf('data/historico_bovespa/COTAHIST_A2014.TXT',colspecs=colspecs, skipfooter=1, skiprows=1, names=col_names, converters=converters)\n",
    "df_2015 = pd.read_fwf('data/historico_bovespa/COTAHIST_A2015.TXT',colspecs=colspecs, skipfooter=1, skiprows=1, names=col_names, converters=converters)\n",
    "df_2016 = pd.read_fwf('data/historico_bovespa/COTAHIST_A2016.TXT',colspecs=colspecs, skipfooter=1, skiprows=1, names=col_names, converters=converters)\n",
    "df_2017 = pd.read_fwf('data/historico_bovespa/COTAHIST_A2017.TXT',colspecs=colspecs, skipfooter=1, skiprows=1, names=col_names, converters=converters)\n",
    "df_2018 = pd.read_fwf('data/historico_bovespa/COTAHIST_A2018.TXT',colspecs=colspecs, skipfooter=1, skiprows=1, names=col_names, converters=converters)\n",
    "df_2019 = pd.read_fwf('data/historico_bovespa/COTAHIST_A2019.TXT',colspecs=colspecs, skipfooter=1, skiprows=1, names=col_names, converters=converters)"
   ]
  },
  {
   "cell_type": "code",
   "execution_count": 12,
   "metadata": {},
   "outputs": [],
   "source": [
    "nome_papel='PETR4'\n",
    "datadir = 'data/'+nome_papel\n",
    "modeldir = 'models/'+nome_papel\n",
    "os.mkdir(modeldir)\n",
    "os.mkdir(datadir)\n",
    "\n"
   ]
  },
  {
   "cell_type": "code",
   "execution_count": 11,
   "metadata": {},
   "outputs": [],
   "source": [
    "# Sort DataFrame by date\n",
    "\n",
    "df_2008=df_2008[df_2008['cod_negociacao']==nome_papel]\n",
    "df_2009=df_2009[df_2009['cod_negociacao']==nome_papel]\n",
    "df_2010=df_2010[df_2010['cod_negociacao']==nome_papel]\n",
    "df_2011=df_2011[df_2011['cod_negociacao']==nome_papel]\n",
    "df_2012=df_2012[df_2012['cod_negociacao']==nome_papel]\n",
    "df_2013=df_2013[df_2013['cod_negociacao']==nome_papel]\n",
    "df_2014=df_2014[df_2014['cod_negociacao']==nome_papel]\n",
    "df_2015=df_2015[df_2015['cod_negociacao']==nome_papel]\n",
    "df_2016=df_2016[df_2016['cod_negociacao']==nome_papel]\n",
    "df_2017=df_2017[df_2017['cod_negociacao']==nome_papel]\n",
    "df_2018=df_2018[df_2018['cod_negociacao']==nome_papel]\n",
    "df_2019=df_2019[df_2019['cod_negociacao']==nome_papel]\n",
    "\n",
    "df=pd.concat([df_2008,df_2009,df_2010,df_2011,df_2012,df_2013,df_2014,df_2015,df_2016,df_2017,df_2018,df_2019],ignore_index=True)\n",
    "\n",
    "\n",
    "# Double check the result\n",
    "df=df[['data_pregao','preco_abertura','preco_maximo','preco_minimo','preco_ultimo_negocio','preco_ultimo_negocio','quantidade_negocios']]\n",
    "df=df.filter().sort_values('data_pregao')\n",
    "df=df.sort_values('data_pregao')\n",
    "df.to_csv(datadir+'/'+nome_papel+'.csv')\n"
   ]
  },
  {
   "cell_type": "code",
   "execution_count": null,
   "metadata": {},
   "outputs": [],
   "source": []
  },
  {
   "cell_type": "code",
   "execution_count": 0,
   "metadata": {},
   "outputs": [],
   "source": [
    "df_2019 = pd.read_fwf('data/COTAHIST_A2019.TXT',colspecs=colspecs, skipfooter=1, skiprows=1, names=col_names, converters=converters)\n",
    "df_2019=df_2019[df_2019['cod_negociacao']=='MGLU3']\n",
    "df=df_2019[['data_pregao','preco_abertura','preco_maximo','preco_minimo','preco_ultimo_negocio','preco_ultimo_negocio','quantidade_negocios']]\n",
    "df=df.sort_values('data_pregao')\n",
    "df.to_csv('data/MGLU32019.csv')"
   ]
  },
  {
   "cell_type": "code",
   "execution_count": null,
   "metadata": {},
   "outputs": [],
   "source": []
  }
 ]
}