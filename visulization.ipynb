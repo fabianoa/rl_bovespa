{
 "cells": [
  {
   "cell_type": "markdown",
   "metadata": {},
   "source": [
    "# Visualization of Stock Trading"
   ]
  },
  {
   "source": [
    "# import libraries\n",
    "import pandas as pd\n",
    "import numpy as np\n",
    "import altair as alt\n",
    "import seaborn as sns"
   ],
   "cell_type": "code",
   "outputs": [],
   "metadata": {},
   "execution_count": 1
  },
  {
   "cell_type": "markdown",
   "metadata": {},
   "source": [
    "## Set relevant parameters"
   ]
  },
  {
   "source": [
    "train_stock = 'data/MGLU3/MGLU3.csv'\n",
    "val_stock = 'data/MGLU32019/MGLU32019.csv'\n",
    "window_size = 10\n",
    "batch_size = 16\n",
    "ep_count = 10\n",
    "model_name = 'model_ep1000'\n",
    "pretrained = False\n",
    "debug = False"
   ],
   "cell_type": "code",
   "outputs": [],
   "metadata": {},
   "execution_count": 2
  },
  {
   "cell_type": "markdown",
   "metadata": {},
   "source": [
    "## Load Dataset into pandas DataFrame"
   ]
  },
  {
   "source": [
    "# read csv into dataframe\n",
    "df = pd.read_csv(val_stock)\n",
    "\n",
    "# filter out the desired features\n",
    "df = df[['data_pregao', 'preco_ultimo_negocio']]\n",
    "\n",
    "# rename feature column names\n",
    "df = df.rename(columns={'Adj Close': 'preco_ultimo_negocio', 'Date': 'data_pregao'})\n",
    "\n",
    "df.head()"
   ],
   "cell_type": "code",
   "outputs": [
    {
     "output_type": "execute_result",
     "data": {
      "text/plain": "  data_pregao  preco_ultimo_negocio\n0  2019-01-02                185.99\n1  2019-01-03                184.00\n2  2019-01-04                178.40\n3  2019-01-07                181.17\n4  2019-01-08                179.71",
      "text/html": "<div>\n<style scoped>\n    .dataframe tbody tr th:only-of-type {\n        vertical-align: middle;\n    }\n\n    .dataframe tbody tr th {\n        vertical-align: top;\n    }\n\n    .dataframe thead th {\n        text-align: right;\n    }\n</style>\n<table border=\"1\" class=\"dataframe\">\n  <thead>\n    <tr style=\"text-align: right;\">\n      <th></th>\n      <th>data_pregao</th>\n      <th>preco_ultimo_negocio</th>\n    </tr>\n  </thead>\n  <tbody>\n    <tr>\n      <td>0</td>\n      <td>2019-01-02</td>\n      <td>185.99</td>\n    </tr>\n    <tr>\n      <td>1</td>\n      <td>2019-01-03</td>\n      <td>184.00</td>\n    </tr>\n    <tr>\n      <td>2</td>\n      <td>2019-01-04</td>\n      <td>178.40</td>\n    </tr>\n    <tr>\n      <td>3</td>\n      <td>2019-01-07</td>\n      <td>181.17</td>\n    </tr>\n    <tr>\n      <td>4</td>\n      <td>2019-01-08</td>\n      <td>179.71</td>\n    </tr>\n  </tbody>\n</table>\n</div>"
     },
     "metadata": {},
     "execution_count": 3
    }
   ],
   "metadata": {},
   "execution_count": 3
  },
  {
   "source": [
    "# convert dates from object to DateTime type\n",
    "dates = df['data_pregao']\n",
    "dates = pd.to_datetime(dates, infer_datetime_format=True)\n",
    "df['data_pregao'] = dates"
   ],
   "cell_type": "code",
   "outputs": [],
   "metadata": {},
   "execution_count": 4
  },
  {
   "source": [
    "df.info()\n",
    "df.head()"
   ],
   "cell_type": "code",
   "outputs": [
    {
     "output_type": "stream",
     "name": "stdout",
     "text": "<class 'pandas.core.frame.DataFrame'>\nRangeIndex: 236 entries, 0 to 235\nData columns (total 2 columns):\ndata_pregao             236 non-null datetime64[ns]\npreco_ultimo_negocio    236 non-null float64\ndtypes: datetime64[ns](1), float64(1)\nmemory usage: 3.8 KB\n"
    },
    {
     "output_type": "execute_result",
     "data": {
      "text/plain": "  data_pregao  preco_ultimo_negocio\n0  2019-01-02                185.99\n1  2019-01-03                184.00\n2  2019-01-04                178.40\n3  2019-01-07                181.17\n4  2019-01-08                179.71",
      "text/html": "<div>\n<style scoped>\n    .dataframe tbody tr th:only-of-type {\n        vertical-align: middle;\n    }\n\n    .dataframe tbody tr th {\n        vertical-align: top;\n    }\n\n    .dataframe thead th {\n        text-align: right;\n    }\n</style>\n<table border=\"1\" class=\"dataframe\">\n  <thead>\n    <tr style=\"text-align: right;\">\n      <th></th>\n      <th>data_pregao</th>\n      <th>preco_ultimo_negocio</th>\n    </tr>\n  </thead>\n  <tbody>\n    <tr>\n      <td>0</td>\n      <td>2019-01-02</td>\n      <td>185.99</td>\n    </tr>\n    <tr>\n      <td>1</td>\n      <td>2019-01-03</td>\n      <td>184.00</td>\n    </tr>\n    <tr>\n      <td>2</td>\n      <td>2019-01-04</td>\n      <td>178.40</td>\n    </tr>\n    <tr>\n      <td>3</td>\n      <td>2019-01-07</td>\n      <td>181.17</td>\n    </tr>\n    <tr>\n      <td>4</td>\n      <td>2019-01-08</td>\n      <td>179.71</td>\n    </tr>\n  </tbody>\n</table>\n</div>"
     },
     "metadata": {},
     "execution_count": 5
    }
   ],
   "metadata": {},
   "execution_count": 5
  },
  {
   "cell_type": "markdown",
   "metadata": {},
   "source": [
    "## Visualization of actions taken by Trading Bot"
   ]
  },
  {
   "source": [
    "def visualize(df, history):\n",
    "    # add history to dataframe\n",
    "    position = [history[0][0]] + [x[0] for x in history]\n",
    "    actions = ['HOLD'] + [x[1] for x in history]\n",
    "    df['position'] = position\n",
    "    df['action'] = actions\n",
    "    \n",
    "    # specify y-axis scale for stock prices\n",
    "    scale = alt.Scale(domain=(min(min(df['actual']), min(df['position'])) - 50, max(max(df['actual']), max(df['position'])) + 50), clamp=True)\n",
    "    \n",
    "    # plot a line chart for stock positions\n",
    "    actual = alt.Chart(df).mark_line(\n",
    "        color='green',\n",
    "        opacity=0.5\n",
    "    ).encode(\n",
    "        x='date:T',\n",
    "        y=alt.Y('position', axis=alt.Axis(format='$.2f', title='Price'), scale=scale)\n",
    "    ).interactive(\n",
    "        bind_y=False\n",
    "    )\n",
    "    \n",
    "    # plot the BUY and SELL actions as points\n",
    "    points = alt.Chart(df).transform_filter(\n",
    "        alt.datum.action != 'HOLD'\n",
    "    ).mark_point(\n",
    "        filled=True\n",
    "    ).encode(\n",
    "        x=alt.X('date:T', axis=alt.Axis(title='Date')),\n",
    "        y=alt.Y('position', axis=alt.Axis(format='$.2f', title='Price'), scale=scale),\n",
    "        color='action'\n",
    "        #color=alt.Color('action', scale=alt.Scale(range=['blue', 'red']))\n",
    "    ).interactive(bind_y=False)\n",
    "\n",
    "    # merge the two charts\n",
    "    chart = alt.layer(actual, points, title=val_stock).properties(height=300, width=1000)\n",
    "    \n",
    "    return chart"
   ],
   "cell_type": "code",
   "outputs": [],
   "metadata": {},
   "execution_count": 11
  },
  {
   "cell_type": "markdown",
   "metadata": {},
   "source": [
    "## Training the model"
   ]
  },
  {
   "source": [
    "import logging\n",
    "import coloredlogs\n",
    "\n",
    "from train import *\n",
    "from evaluate import show_eval_result\n",
    "\n",
    "coloredlogs.install(level='DEBUG')\n",
    "switch_k_backend_device()\n",
    "\n",
    "agent = Agent(window_size, pretrained=pretrained, model_name=model_name)\n",
    "train_data = get_stock_data(train_stock)\n",
    "val_data = get_stock_data(val_stock)\n",
    "\n",
    "initial_offset = val_data[1] - val_data[0]\n",
    "\n",
    "for i in range(1, ep_count + 1):\n",
    "    train_result = train_model(agent, i, train_data, ep_count=ep_count,\n",
    "                                batch_size=batch_size, window_size=window_size)\n",
    "    val_result, _ = evaluate_model(agent, val_data, window_size, debug)\n",
    "    show_train_result(train_result, val_result, initial_offset)"
   ],
   "cell_type": "code",
   "outputs": [
    {
     "output_type": "stream",
     "name": "stderr",
     "text": "2019-12-11 15:54:50JPAD231923root[26380]DEBUGswitching to TensorFlow for CPU\n"
    },
    {
     "output_type": "error",
     "ename": "KeyError",
     "evalue": "'Adj Close'",
     "traceback": [
      "\u001b[1;31m---------------------------------------------------------------------------\u001b[0m",
      "\u001b[1;31mKeyError\u001b[0m                                  Traceback (most recent call last)",
      "\u001b[1;32m~\\AppData\\Local\\Continuum\\anaconda3\\lib\\site-packages\\pandas\\core\\indexes\\base.py\u001b[0m in \u001b[0;36mget_loc\u001b[1;34m(self, key, method, tolerance)\u001b[0m\n\u001b[0;32m   2896\u001b[0m             \u001b[1;32mtry\u001b[0m\u001b[1;33m:\u001b[0m\u001b[1;33m\u001b[0m\u001b[1;33m\u001b[0m\u001b[0m\n\u001b[1;32m-> 2897\u001b[1;33m                 \u001b[1;32mreturn\u001b[0m \u001b[0mself\u001b[0m\u001b[1;33m.\u001b[0m\u001b[0m_engine\u001b[0m\u001b[1;33m.\u001b[0m\u001b[0mget_loc\u001b[0m\u001b[1;33m(\u001b[0m\u001b[0mkey\u001b[0m\u001b[1;33m)\u001b[0m\u001b[1;33m\u001b[0m\u001b[1;33m\u001b[0m\u001b[0m\n\u001b[0m\u001b[0;32m   2898\u001b[0m             \u001b[1;32mexcept\u001b[0m \u001b[0mKeyError\u001b[0m\u001b[1;33m:\u001b[0m\u001b[1;33m\u001b[0m\u001b[1;33m\u001b[0m\u001b[0m\n",
      "\u001b[1;32mpandas\\_libs\\index.pyx\u001b[0m in \u001b[0;36mpandas._libs.index.IndexEngine.get_loc\u001b[1;34m()\u001b[0m\n",
      "\u001b[1;32mpandas\\_libs\\index.pyx\u001b[0m in \u001b[0;36mpandas._libs.index.IndexEngine.get_loc\u001b[1;34m()\u001b[0m\n",
      "\u001b[1;32mpandas\\_libs\\hashtable_class_helper.pxi\u001b[0m in \u001b[0;36mpandas._libs.hashtable.PyObjectHashTable.get_item\u001b[1;34m()\u001b[0m\n",
      "\u001b[1;32mpandas\\_libs\\hashtable_class_helper.pxi\u001b[0m in \u001b[0;36mpandas._libs.hashtable.PyObjectHashTable.get_item\u001b[1;34m()\u001b[0m\n",
      "\u001b[1;31mKeyError\u001b[0m: 'Adj Close'",
      "\nDuring handling of the above exception, another exception occurred:\n",
      "\u001b[1;31mKeyError\u001b[0m                                  Traceback (most recent call last)",
      "\u001b[1;32m<ipython-input-14-c99c6a1d5b22>\u001b[0m in \u001b[0;36m<module>\u001b[1;34m\u001b[0m\n\u001b[0;32m      9\u001b[0m \u001b[1;33m\u001b[0m\u001b[0m\n\u001b[0;32m     10\u001b[0m \u001b[0magent\u001b[0m \u001b[1;33m=\u001b[0m \u001b[0mAgent\u001b[0m\u001b[1;33m(\u001b[0m\u001b[0mwindow_size\u001b[0m\u001b[1;33m,\u001b[0m \u001b[0mpretrained\u001b[0m\u001b[1;33m=\u001b[0m\u001b[0mpretrained\u001b[0m\u001b[1;33m,\u001b[0m \u001b[0mmodel_name\u001b[0m\u001b[1;33m=\u001b[0m\u001b[0mmodel_name\u001b[0m\u001b[1;33m)\u001b[0m\u001b[1;33m\u001b[0m\u001b[1;33m\u001b[0m\u001b[0m\n\u001b[1;32m---> 11\u001b[1;33m \u001b[0mtrain_data\u001b[0m \u001b[1;33m=\u001b[0m \u001b[0mget_stock_data\u001b[0m\u001b[1;33m(\u001b[0m\u001b[0mtrain_stock\u001b[0m\u001b[1;33m)\u001b[0m\u001b[1;33m\u001b[0m\u001b[1;33m\u001b[0m\u001b[0m\n\u001b[0m\u001b[0;32m     12\u001b[0m \u001b[0mval_data\u001b[0m \u001b[1;33m=\u001b[0m \u001b[0mget_stock_data\u001b[0m\u001b[1;33m(\u001b[0m\u001b[0mval_stock\u001b[0m\u001b[1;33m)\u001b[0m\u001b[1;33m\u001b[0m\u001b[1;33m\u001b[0m\u001b[0m\n\u001b[0;32m     13\u001b[0m \u001b[1;33m\u001b[0m\u001b[0m\n",
      "\u001b[1;32mc:\\Users\\fabiano.alencar\\Projects\\rl_bovespa\\utils.py\u001b[0m in \u001b[0;36mget_stock_data\u001b[1;34m(stock_file)\u001b[0m\n\u001b[0;32m     33\u001b[0m     \u001b[1;34m\"\"\" Reads stock data from csv file. \"\"\"\u001b[0m\u001b[1;33m\u001b[0m\u001b[1;33m\u001b[0m\u001b[0m\n\u001b[0;32m     34\u001b[0m     \u001b[0mdf\u001b[0m \u001b[1;33m=\u001b[0m \u001b[0mpd\u001b[0m\u001b[1;33m.\u001b[0m\u001b[0mread_csv\u001b[0m\u001b[1;33m(\u001b[0m\u001b[0mstock_file\u001b[0m\u001b[1;33m)\u001b[0m\u001b[1;33m\u001b[0m\u001b[1;33m\u001b[0m\u001b[0m\n\u001b[1;32m---> 35\u001b[1;33m     \u001b[0mprint\u001b[0m\u001b[1;33m(\u001b[0m\u001b[0mdf\u001b[0m\u001b[1;33m)\u001b[0m\u001b[1;33m\u001b[0m\u001b[1;33m\u001b[0m\u001b[0m\n\u001b[0m\u001b[0;32m     36\u001b[0m     \u001b[1;32mreturn\u001b[0m \u001b[0mlist\u001b[0m\u001b[1;33m(\u001b[0m\u001b[0mdf\u001b[0m\u001b[1;33m[\u001b[0m\u001b[1;34m'preco_ultimo_negocio'\u001b[0m\u001b[1;33m]\u001b[0m\u001b[1;33m)\u001b[0m\u001b[1;33m\u001b[0m\u001b[1;33m\u001b[0m\u001b[0m\n\u001b[0;32m     37\u001b[0m \u001b[1;33m\u001b[0m\u001b[0m\n",
      "\u001b[1;32m~\\AppData\\Local\\Continuum\\anaconda3\\lib\\site-packages\\pandas\\core\\frame.py\u001b[0m in \u001b[0;36m__getitem__\u001b[1;34m(self, key)\u001b[0m\n\u001b[0;32m   2978\u001b[0m             \u001b[1;32mif\u001b[0m \u001b[0mself\u001b[0m\u001b[1;33m.\u001b[0m\u001b[0mcolumns\u001b[0m\u001b[1;33m.\u001b[0m\u001b[0mnlevels\u001b[0m \u001b[1;33m>\u001b[0m \u001b[1;36m1\u001b[0m\u001b[1;33m:\u001b[0m\u001b[1;33m\u001b[0m\u001b[1;33m\u001b[0m\u001b[0m\n\u001b[0;32m   2979\u001b[0m                 \u001b[1;32mreturn\u001b[0m \u001b[0mself\u001b[0m\u001b[1;33m.\u001b[0m\u001b[0m_getitem_multilevel\u001b[0m\u001b[1;33m(\u001b[0m\u001b[0mkey\u001b[0m\u001b[1;33m)\u001b[0m\u001b[1;33m\u001b[0m\u001b[1;33m\u001b[0m\u001b[0m\n\u001b[1;32m-> 2980\u001b[1;33m             \u001b[0mindexer\u001b[0m \u001b[1;33m=\u001b[0m \u001b[0mself\u001b[0m\u001b[1;33m.\u001b[0m\u001b[0mcolumns\u001b[0m\u001b[1;33m.\u001b[0m\u001b[0mget_loc\u001b[0m\u001b[1;33m(\u001b[0m\u001b[0mkey\u001b[0m\u001b[1;33m)\u001b[0m\u001b[1;33m\u001b[0m\u001b[1;33m\u001b[0m\u001b[0m\n\u001b[0m\u001b[0;32m   2981\u001b[0m             \u001b[1;32mif\u001b[0m \u001b[0mis_integer\u001b[0m\u001b[1;33m(\u001b[0m\u001b[0mindexer\u001b[0m\u001b[1;33m)\u001b[0m\u001b[1;33m:\u001b[0m\u001b[1;33m\u001b[0m\u001b[1;33m\u001b[0m\u001b[0m\n\u001b[0;32m   2982\u001b[0m                 \u001b[0mindexer\u001b[0m \u001b[1;33m=\u001b[0m \u001b[1;33m[\u001b[0m\u001b[0mindexer\u001b[0m\u001b[1;33m]\u001b[0m\u001b[1;33m\u001b[0m\u001b[1;33m\u001b[0m\u001b[0m\n",
      "\u001b[1;32m~\\AppData\\Local\\Continuum\\anaconda3\\lib\\site-packages\\pandas\\core\\indexes\\base.py\u001b[0m in \u001b[0;36mget_loc\u001b[1;34m(self, key, method, tolerance)\u001b[0m\n\u001b[0;32m   2897\u001b[0m                 \u001b[1;32mreturn\u001b[0m \u001b[0mself\u001b[0m\u001b[1;33m.\u001b[0m\u001b[0m_engine\u001b[0m\u001b[1;33m.\u001b[0m\u001b[0mget_loc\u001b[0m\u001b[1;33m(\u001b[0m\u001b[0mkey\u001b[0m\u001b[1;33m)\u001b[0m\u001b[1;33m\u001b[0m\u001b[1;33m\u001b[0m\u001b[0m\n\u001b[0;32m   2898\u001b[0m             \u001b[1;32mexcept\u001b[0m \u001b[0mKeyError\u001b[0m\u001b[1;33m:\u001b[0m\u001b[1;33m\u001b[0m\u001b[1;33m\u001b[0m\u001b[0m\n\u001b[1;32m-> 2899\u001b[1;33m                 \u001b[1;32mreturn\u001b[0m \u001b[0mself\u001b[0m\u001b[1;33m.\u001b[0m\u001b[0m_engine\u001b[0m\u001b[1;33m.\u001b[0m\u001b[0mget_loc\u001b[0m\u001b[1;33m(\u001b[0m\u001b[0mself\u001b[0m\u001b[1;33m.\u001b[0m\u001b[0m_maybe_cast_indexer\u001b[0m\u001b[1;33m(\u001b[0m\u001b[0mkey\u001b[0m\u001b[1;33m)\u001b[0m\u001b[1;33m)\u001b[0m\u001b[1;33m\u001b[0m\u001b[1;33m\u001b[0m\u001b[0m\n\u001b[0m\u001b[0;32m   2900\u001b[0m         \u001b[0mindexer\u001b[0m \u001b[1;33m=\u001b[0m \u001b[0mself\u001b[0m\u001b[1;33m.\u001b[0m\u001b[0mget_indexer\u001b[0m\u001b[1;33m(\u001b[0m\u001b[1;33m[\u001b[0m\u001b[0mkey\u001b[0m\u001b[1;33m]\u001b[0m\u001b[1;33m,\u001b[0m \u001b[0mmethod\u001b[0m\u001b[1;33m=\u001b[0m\u001b[0mmethod\u001b[0m\u001b[1;33m,\u001b[0m \u001b[0mtolerance\u001b[0m\u001b[1;33m=\u001b[0m\u001b[0mtolerance\u001b[0m\u001b[1;33m)\u001b[0m\u001b[1;33m\u001b[0m\u001b[1;33m\u001b[0m\u001b[0m\n\u001b[0;32m   2901\u001b[0m         \u001b[1;32mif\u001b[0m \u001b[0mindexer\u001b[0m\u001b[1;33m.\u001b[0m\u001b[0mndim\u001b[0m \u001b[1;33m>\u001b[0m \u001b[1;36m1\u001b[0m \u001b[1;32mor\u001b[0m \u001b[0mindexer\u001b[0m\u001b[1;33m.\u001b[0m\u001b[0msize\u001b[0m \u001b[1;33m>\u001b[0m \u001b[1;36m1\u001b[0m\u001b[1;33m:\u001b[0m\u001b[1;33m\u001b[0m\u001b[1;33m\u001b[0m\u001b[0m\n",
      "\u001b[1;32mpandas\\_libs\\index.pyx\u001b[0m in \u001b[0;36mpandas._libs.index.IndexEngine.get_loc\u001b[1;34m()\u001b[0m\n",
      "\u001b[1;32mpandas\\_libs\\index.pyx\u001b[0m in \u001b[0;36mpandas._libs.index.IndexEngine.get_loc\u001b[1;34m()\u001b[0m\n",
      "\u001b[1;32mpandas\\_libs\\hashtable_class_helper.pxi\u001b[0m in \u001b[0;36mpandas._libs.hashtable.PyObjectHashTable.get_item\u001b[1;34m()\u001b[0m\n",
      "\u001b[1;32mpandas\\_libs\\hashtable_class_helper.pxi\u001b[0m in \u001b[0;36mpandas._libs.hashtable.PyObjectHashTable.get_item\u001b[1;34m()\u001b[0m\n",
      "\u001b[1;31mKeyError\u001b[0m: 'Adj Close'"
     ]
    }
   ],
   "metadata": {},
   "execution_count": 14
  },
  {
   "cell_type": "markdown",
   "metadata": {},
   "source": [
    "## Plotting the evaluation actions"
   ]
  },
  {
   "cell_type": "code",
   "execution_count": 80,
   "metadata": {},
   "outputs": [
    {
     "name": "stderr",
     "output_type": "stream",
     "text": [
      "2018-12-31 18:30:34 ubuntu root[32111] INFO model_GOOGL: +$517.44\n",
      "\n"
     ]
    },
    {
     "data": {
      "application/vnd.vegalite.v2+json": {
       "$schema": "https://vega.github.io/schema/vega-lite/v2.6.0.json",
       "config": {
        "view": {
         "height": 300,
         "width": 400
        }
       },
       "datasets": {
        "data-c2d2a4e04dd28ffdd8f7341b043bb2af": [
         {
          "action": "HOLD",
          "actual": 923.590027,
          "date": "2017-08-10T00:00:00",
          "position": 923.590027
         },
         {
          "action": "BUY",
          "actual": 930.090027,
          "date": "2017-08-11T00:00:00",
          "position": 923.590027
         },
         {
          "action": "SELL",
          "actual": 938.929993,
          "date": "2017-08-14T00:00:00",
          "position": 930.090027
         },
         {
          "action": "HOLD",
          "actual": 938.080017,
          "date": "2017-08-15T00:00:00",
          "position": 938.929993
         },
         {
          "action": "HOLD",
          "actual": 944.2700199999999,
          "date": "2017-08-16T00:00:00",
          "position": 938.080017
         },
         {
          "action": "BUY",
          "actual": 927.659973,
          "date": "2017-08-17T00:00:00",
          "position": 944.2700199999999
         },
         {
          "action": "BUY",
          "actual": 926.179993,
          "date": "2017-08-18T00:00:00",
          "position": 927.659973
         },
         {
          "action": "BUY",
          "actual": 920.8699949999999,
          "date": "2017-08-21T00:00:00",
          "position": 926.179993
         },
         {
          "action": "BUY",
          "actual": 940.400024,
          "date": "2017-08-22T00:00:00",
          "position": 920.8699949999999
         },
         {
          "action": "SELL",
          "actual": 942.580017,
          "date": "2017-08-23T00:00:00",
          "position": 940.400024
         },
         {
          "action": "SELL",
          "actual": 936.8900150000001,
          "date": "2017-08-24T00:00:00",
          "position": 942.580017
         },
         {
          "action": "SELL",
          "actual": 930.5,
          "date": "2017-08-25T00:00:00",
          "position": 936.8900150000001
         },
         {
          "action": "BUY",
          "actual": 928.1300050000001,
          "date": "2017-08-28T00:00:00",
          "position": 930.5
         },
         {
          "action": "BUY",
          "actual": 935.75,
          "date": "2017-08-29T00:00:00",
          "position": 928.1300050000001
         },
         {
          "action": "SELL",
          "actual": 943.6300050000001,
          "date": "2017-08-30T00:00:00",
          "position": 935.75
         },
         {
          "action": "SELL",
          "actual": 955.23999,
          "date": "2017-08-31T00:00:00",
          "position": 943.6300050000001
         },
         {
          "action": "SELL",
          "actual": 951.98999,
          "date": "2017-09-01T00:00:00",
          "position": 955.23999
         },
         {
          "action": "BUY",
          "actual": 941.4799800000001,
          "date": "2017-09-05T00:00:00",
          "position": 951.98999
         },
         {
          "action": "BUY",
          "actual": 942.0200199999999,
          "date": "2017-09-06T00:00:00",
          "position": 941.4799800000001
         },
         {
          "action": "SELL",
          "actual": 949.8900150000001,
          "date": "2017-09-07T00:00:00",
          "position": 942.0200199999999
         },
         {
          "action": "SELL",
          "actual": 941.409973,
          "date": "2017-09-08T00:00:00",
          "position": 949.8900150000001
         },
         {
          "action": "HOLD",
          "actual": 943.2899779999999,
          "date": "2017-09-11T00:00:00",
          "position": 941.409973
         },
         {
          "action": "BUY",
          "actual": 946.650024,
          "date": "2017-09-12T00:00:00",
          "position": 943.2899779999999
         },
         {
          "action": "SELL",
          "actual": 950.4400019999999,
          "date": "2017-09-13T00:00:00",
          "position": 946.650024
         },
         {
          "action": "HOLD",
          "actual": 940.1300050000001,
          "date": "2017-09-14T00:00:00",
          "position": 950.4400019999999
         },
         {
          "action": "HOLD",
          "actual": 935.2899779999999,
          "date": "2017-09-15T00:00:00",
          "position": 940.1300050000001
         },
         {
          "action": "BUY",
          "actual": 929.75,
          "date": "2017-09-18T00:00:00",
          "position": 935.2899779999999
         },
         {
          "action": "BUY",
          "actual": 936.8599849999999,
          "date": "2017-09-19T00:00:00",
          "position": 929.75
         },
         {
          "action": "SELL",
          "actual": 947.5399779999999,
          "date": "2017-09-20T00:00:00",
          "position": 936.8599849999999
         },
         {
          "action": "SELL",
          "actual": 947.5499880000001,
          "date": "2017-09-21T00:00:00",
          "position": 947.5399779999999
         },
         {
          "action": "HOLD",
          "actual": 943.26001,
          "date": "2017-09-22T00:00:00",
          "position": 947.5499880000001
         },
         {
          "action": "BUY",
          "actual": 934.2800289999999,
          "date": "2017-09-25T00:00:00",
          "position": 943.26001
         },
         {
          "action": "BUY",
          "actual": 937.429993,
          "date": "2017-09-26T00:00:00",
          "position": 934.2800289999999
         },
         {
          "action": "SELL",
          "actual": 959.900024,
          "date": "2017-09-27T00:00:00",
          "position": 937.429993
         },
         {
          "action": "SELL",
          "actual": 964.8099980000001,
          "date": "2017-09-28T00:00:00",
          "position": 959.900024
         },
         {
          "action": "HOLD",
          "actual": 973.7199710000001,
          "date": "2017-09-29T00:00:00",
          "position": 964.8099980000001
         },
         {
          "action": "HOLD",
          "actual": 967.4699710000001,
          "date": "2017-10-02T00:00:00",
          "position": 973.7199710000001
         },
         {
          "action": "BUY",
          "actual": 972.080017,
          "date": "2017-10-03T00:00:00",
          "position": 967.4699710000001
         },
         {
          "action": "SELL",
          "actual": 966.7800289999999,
          "date": "2017-10-04T00:00:00",
          "position": 972.080017
         },
         {
          "action": "BUY",
          "actual": 985.1900019999999,
          "date": "2017-10-05T00:00:00",
          "position": 966.7800289999999
         },
         {
          "action": "SELL",
          "actual": 993.6400150000001,
          "date": "2017-10-06T00:00:00",
          "position": 985.1900019999999
         },
         {
          "action": "HOLD",
          "actual": 992.3099980000001,
          "date": "2017-10-09T00:00:00",
          "position": 993.6400150000001
         },
         {
          "action": "HOLD",
          "actual": 987.7999880000001,
          "date": "2017-10-10T00:00:00",
          "position": 992.3099980000001
         },
         {
          "action": "BUY",
          "actual": 1005.650024,
          "date": "2017-10-11T00:00:00",
          "position": 987.7999880000001
         },
         {
          "action": "BUY",
          "actual": 1005.650024,
          "date": "2017-10-12T00:00:00",
          "position": 1005.650024
         },
         {
          "action": "SELL",
          "actual": 1007.8699949999999,
          "date": "2017-10-13T00:00:00",
          "position": 1005.650024
         },
         {
          "action": "SELL",
          "actual": 1009.349976,
          "date": "2017-10-16T00:00:00",
          "position": 1007.8699949999999
         },
         {
          "action": "HOLD",
          "actual": 1011,
          "date": "2017-10-17T00:00:00",
          "position": 1009.349976
         },
         {
          "action": "BUY",
          "actual": 1012.73999,
          "date": "2017-10-18T00:00:00",
          "position": 1011
         },
         {
          "action": "SELL",
          "actual": 1001.840027,
          "date": "2017-10-19T00:00:00",
          "position": 1012.73999
         },
         {
          "action": "BUY",
          "actual": 1005.070007,
          "date": "2017-10-20T00:00:00",
          "position": 1001.840027
         },
         {
          "action": "BUY",
          "actual": 985.5399779999999,
          "date": "2017-10-23T00:00:00",
          "position": 1005.070007
         },
         {
          "action": "BUY",
          "actual": 988.48999,
          "date": "2017-10-24T00:00:00",
          "position": 985.5399779999999
         },
         {
          "action": "SELL",
          "actual": 991.4600220000001,
          "date": "2017-10-25T00:00:00",
          "position": 988.48999
         },
         {
          "action": "SELL",
          "actual": 991.419983,
          "date": "2017-10-26T00:00:00",
          "position": 991.4600220000001
         },
         {
          "action": "SELL",
          "actual": 1033.670044,
          "date": "2017-10-27T00:00:00",
          "position": 991.419983
         },
         {
          "action": "BUY",
          "actual": 1033.130005,
          "date": "2017-10-30T00:00:00",
          "position": 1033.670044
         },
         {
          "action": "SELL",
          "actual": 1033.040039,
          "date": "2017-10-31T00:00:00",
          "position": 1033.130005
         },
         {
          "action": "BUY",
          "actual": 1042.599976,
          "date": "2017-11-01T00:00:00",
          "position": 1033.040039
         },
         {
          "action": "SELL",
          "actual": 1042.969971,
          "date": "2017-11-02T00:00:00",
          "position": 1042.599976
         },
         {
          "action": "HOLD",
          "actual": 1049.98999,
          "date": "2017-11-03T00:00:00",
          "position": 1042.969971
         },
         {
          "action": "HOLD",
          "actual": 1042.680054,
          "date": "2017-11-06T00:00:00",
          "position": 1049.98999
         },
         {
          "action": "BUY",
          "actual": 1052.390015,
          "date": "2017-11-07T00:00:00",
          "position": 1042.680054
         },
         {
          "action": "BUY",
          "actual": 1058.290039,
          "date": "2017-11-08T00:00:00",
          "position": 1052.390015
         },
         {
          "action": "SELL",
          "actual": 1047.719971,
          "date": "2017-11-09T00:00:00",
          "position": 1058.290039
         },
         {
          "action": "SELL",
          "actual": 1044.150024,
          "date": "2017-11-10T00:00:00",
          "position": 1047.719971
         },
         {
          "action": "BUY",
          "actual": 1041.199951,
          "date": "2017-11-13T00:00:00",
          "position": 1044.150024
         },
         {
          "action": "BUY",
          "actual": 1041.640015,
          "date": "2017-11-14T00:00:00",
          "position": 1041.199951
         },
         {
          "action": "SELL",
          "actual": 1036.410034,
          "date": "2017-11-15T00:00:00",
          "position": 1041.640015
         },
         {
          "action": "HOLD",
          "actual": 1048.469971,
          "date": "2017-11-16T00:00:00",
          "position": 1036.410034
         },
         {
          "action": "SELL",
          "actual": 1035.890015,
          "date": "2017-11-17T00:00:00",
          "position": 1048.469971
         },
         {
          "action": "HOLD",
          "actual": 1034.660034,
          "date": "2017-11-20T00:00:00",
          "position": 1035.890015
         },
         {
          "action": "BUY",
          "actual": 1050.300049,
          "date": "2017-11-21T00:00:00",
          "position": 1034.660034
         },
         {
          "action": "SELL",
          "actual": 1051.920044,
          "date": "2017-11-22T00:00:00",
          "position": 1050.300049
         },
         {
          "action": "HOLD",
          "actual": 1056.52002,
          "date": "2017-11-24T00:00:00",
          "position": 1051.920044
         },
         {
          "action": "HOLD",
          "actual": 1072.01001,
          "date": "2017-11-27T00:00:00",
          "position": 1056.52002
         },
         {
          "action": "HOLD",
          "actual": 1063.290039,
          "date": "2017-11-28T00:00:00",
          "position": 1072.01001
         },
         {
          "action": "BUY",
          "actual": 1037.380005,
          "date": "2017-11-29T00:00:00",
          "position": 1063.290039
         },
         {
          "action": "BUY",
          "actual": 1036.170044,
          "date": "2017-11-30T00:00:00",
          "position": 1037.380005
         },
         {
          "action": "BUY",
          "actual": 1025.069946,
          "date": "2017-12-01T00:00:00",
          "position": 1036.170044
         },
         {
          "action": "HOLD",
          "actual": 1011.8699949999999,
          "date": "2017-12-04T00:00:00",
          "position": 1025.069946
         },
         {
          "action": "HOLD",
          "actual": 1019.599976,
          "date": "2017-12-05T00:00:00",
          "position": 1011.8699949999999
         },
         {
          "action": "SELL",
          "actual": 1032.719971,
          "date": "2017-12-06T00:00:00",
          "position": 1019.599976
         },
         {
          "action": "SELL",
          "actual": 1044.569946,
          "date": "2017-12-07T00:00:00",
          "position": 1032.719971
         },
         {
          "action": "SELL",
          "actual": 1049.380005,
          "date": "2017-12-08T00:00:00",
          "position": 1044.569946
         },
         {
          "action": "HOLD",
          "actual": 1051.969971,
          "date": "2017-12-11T00:00:00",
          "position": 1049.380005
         },
         {
          "action": "HOLD",
          "actual": 1048.77002,
          "date": "2017-12-12T00:00:00",
          "position": 1051.969971
         },
         {
          "action": "BUY",
          "actual": 1051.390015,
          "date": "2017-12-13T00:00:00",
          "position": 1048.77002
         },
         {
          "action": "SELL",
          "actual": 1057.469971,
          "date": "2017-12-14T00:00:00",
          "position": 1051.390015
         },
         {
          "action": "HOLD",
          "actual": 1072,
          "date": "2017-12-15T00:00:00",
          "position": 1057.469971
         },
         {
          "action": "HOLD",
          "actual": 1085.089966,
          "date": "2017-12-18T00:00:00",
          "position": 1072
         },
         {
          "action": "HOLD",
          "actual": 1079.780029,
          "date": "2017-12-19T00:00:00",
          "position": 1085.089966
         },
         {
          "action": "BUY",
          "actual": 1073.560059,
          "date": "2017-12-20T00:00:00",
          "position": 1079.780029
         },
         {
          "action": "BUY",
          "actual": 1070.849976,
          "date": "2017-12-21T00:00:00",
          "position": 1073.560059
         },
         {
          "action": "BUY",
          "actual": 1068.859985,
          "date": "2017-12-22T00:00:00",
          "position": 1070.849976
         },
         {
          "action": "HOLD",
          "actual": 1065.849976,
          "date": "2017-12-26T00:00:00",
          "position": 1068.859985
         },
         {
          "action": "HOLD",
          "actual": 1060.199951,
          "date": "2017-12-27T00:00:00",
          "position": 1065.849976
         },
         {
          "action": "HOLD",
          "actual": 1055.949951,
          "date": "2017-12-28T00:00:00",
          "position": 1060.199951
         },
         {
          "action": "BUY",
          "actual": 1053.400024,
          "date": "2017-12-29T00:00:00",
          "position": 1055.949951
         },
         {
          "action": "BUY",
          "actual": 1073.209961,
          "date": "2018-01-02T00:00:00",
          "position": 1053.400024
         },
         {
          "action": "SELL",
          "actual": 1091.52002,
          "date": "2018-01-03T00:00:00",
          "position": 1073.209961
         },
         {
          "action": "SELL",
          "actual": 1095.76001,
          "date": "2018-01-04T00:00:00",
          "position": 1091.52002
         },
         {
          "action": "SELL",
          "actual": 1110.290039,
          "date": "2018-01-05T00:00:00",
          "position": 1095.76001
         },
         {
          "action": "SELL",
          "actual": 1114.209961,
          "date": "2018-01-08T00:00:00",
          "position": 1110.290039
         },
         {
          "action": "SELL",
          "actual": 1112.790039,
          "date": "2018-01-09T00:00:00",
          "position": 1114.209961
         },
         {
          "action": "BUY",
          "actual": 1110.140015,
          "date": "2018-01-10T00:00:00",
          "position": 1112.790039
         },
         {
          "action": "BUY",
          "actual": 1112.050049,
          "date": "2018-01-11T00:00:00",
          "position": 1110.140015
         },
         {
          "action": "SELL",
          "actual": 1130.650024,
          "date": "2018-01-12T00:00:00",
          "position": 1112.050049
         },
         {
          "action": "SELL",
          "actual": 1130.699951,
          "date": "2018-01-16T00:00:00",
          "position": 1130.650024
         },
         {
          "action": "HOLD",
          "actual": 1139.099976,
          "date": "2018-01-17T00:00:00",
          "position": 1130.699951
         },
         {
          "action": "HOLD",
          "actual": 1135.969971,
          "date": "2018-01-18T00:00:00",
          "position": 1139.099976
         },
         {
          "action": "BUY",
          "actual": 1143.5,
          "date": "2018-01-19T00:00:00",
          "position": 1135.969971
         },
         {
          "action": "SELL",
          "actual": 1164.160034,
          "date": "2018-01-22T00:00:00",
          "position": 1143.5
         },
         {
          "action": "HOLD",
          "actual": 1176.170044,
          "date": "2018-01-23T00:00:00",
          "position": 1164.160034
         },
         {
          "action": "HOLD",
          "actual": 1171.290039,
          "date": "2018-01-24T00:00:00",
          "position": 1176.170044
         },
         {
          "action": "BUY",
          "actual": 1182.140015,
          "date": "2018-01-25T00:00:00",
          "position": 1171.290039
         },
         {
          "action": "BUY",
          "actual": 1187.560059,
          "date": "2018-01-26T00:00:00",
          "position": 1182.140015
         },
         {
          "action": "SELL",
          "actual": 1186.47998,
          "date": "2018-01-29T00:00:00",
          "position": 1187.560059
         },
         {
          "action": "SELL",
          "actual": 1177.369995,
          "date": "2018-01-30T00:00:00",
          "position": 1186.47998
         },
         {
          "action": "BUY",
          "actual": 1182.219971,
          "date": "2018-01-31T00:00:00",
          "position": 1177.369995
         },
         {
          "action": "BUY",
          "actual": 1181.589966,
          "date": "2018-02-01T00:00:00",
          "position": 1182.219971
         },
         {
          "action": "SELL",
          "actual": 1119.199951,
          "date": "2018-02-02T00:00:00",
          "position": 1181.589966
         },
         {
          "action": "SELL",
          "actual": 1062.390015,
          "date": "2018-02-05T00:00:00",
          "position": 1119.199951
         },
         {
          "action": "HOLD",
          "actual": 1084.430054,
          "date": "2018-02-06T00:00:00",
          "position": 1062.390015
         },
         {
          "action": "HOLD",
          "actual": 1055.410034,
          "date": "2018-02-07T00:00:00",
          "position": 1084.430054
         },
         {
          "action": "HOLD",
          "actual": 1007.7100220000001,
          "date": "2018-02-08T00:00:00",
          "position": 1055.410034
         },
         {
          "action": "HOLD",
          "actual": 1046.27002,
          "date": "2018-02-09T00:00:00",
          "position": 1007.7100220000001
         },
         {
          "action": "HOLD",
          "actual": 1054.560059,
          "date": "2018-02-12T00:00:00",
          "position": 1046.27002
         },
         {
          "action": "HOLD",
          "actual": 1054.140015,
          "date": "2018-02-13T00:00:00",
          "position": 1054.560059
         },
         {
          "action": "HOLD",
          "actual": 1072.699951,
          "date": "2018-02-14T00:00:00",
          "position": 1054.140015
         },
         {
          "action": "HOLD",
          "actual": 1091.359985,
          "date": "2018-02-15T00:00:00",
          "position": 1072.699951
         },
         {
          "action": "BUY",
          "actual": 1095.5,
          "date": "2018-02-16T00:00:00",
          "position": 1091.359985
         },
         {
          "action": "SELL",
          "actual": 1103.589966,
          "date": "2018-02-20T00:00:00",
          "position": 1095.5
         },
         {
          "action": "HOLD",
          "actual": 1113.75,
          "date": "2018-02-21T00:00:00",
          "position": 1103.589966
         },
         {
          "action": "BUY",
          "actual": 1109.900024,
          "date": "2018-02-22T00:00:00",
          "position": 1113.75
         },
         {
          "action": "BUY",
          "actual": 1128.089966,
          "date": "2018-02-23T00:00:00",
          "position": 1109.900024
         },
         {
          "action": "SELL",
          "actual": 1143.699951,
          "date": "2018-02-26T00:00:00",
          "position": 1128.089966
         },
         {
          "action": "SELL",
          "actual": 1117.51001,
          "date": "2018-02-27T00:00:00",
          "position": 1143.699951
         },
         {
          "action": "HOLD",
          "actual": 1103.920044,
          "date": "2018-02-28T00:00:00",
          "position": 1117.51001
         },
         {
          "action": "BUY",
          "actual": 1071.410034,
          "date": "2018-03-01T00:00:00",
          "position": 1103.920044
         },
         {
          "action": "BUY",
          "actual": 1084.140015,
          "date": "2018-03-02T00:00:00",
          "position": 1071.410034
         },
         {
          "action": "SELL",
          "actual": 1094.76001,
          "date": "2018-03-05T00:00:00",
          "position": 1084.140015
         },
         {
          "action": "SELL",
          "actual": 1100.900024,
          "date": "2018-03-06T00:00:00",
          "position": 1094.76001
         },
         {
          "action": "HOLD",
          "actual": 1115.040039,
          "date": "2018-03-07T00:00:00",
          "position": 1100.900024
         },
         {
          "action": "HOLD",
          "actual": 1129.380005,
          "date": "2018-03-08T00:00:00",
          "position": 1115.040039
         },
         {
          "action": "HOLD",
          "actual": 1160.839966,
          "date": "2018-03-09T00:00:00",
          "position": 1129.380005
         },
         {
          "action": "HOLD",
          "actual": 1165.930054,
          "date": "2018-03-12T00:00:00",
          "position": 1160.839966
         },
         {
          "action": "HOLD",
          "actual": 1139.910034,
          "date": "2018-03-13T00:00:00",
          "position": 1165.930054
         },
         {
          "action": "BUY",
          "actual": 1148.890015,
          "date": "2018-03-14T00:00:00",
          "position": 1139.910034
         },
         {
          "action": "BUY",
          "actual": 1150.609985,
          "date": "2018-03-15T00:00:00",
          "position": 1148.890015
         },
         {
          "action": "BUY",
          "actual": 1134.420044,
          "date": "2018-03-16T00:00:00",
          "position": 1150.609985
         },
         {
          "action": "SELL",
          "actual": 1100.069946,
          "date": "2018-03-19T00:00:00",
          "position": 1134.420044
         },
         {
          "action": "BUY",
          "actual": 1095.800049,
          "date": "2018-03-20T00:00:00",
          "position": 1100.069946
         },
         {
          "action": "BUY",
          "actual": 1094,
          "date": "2018-03-21T00:00:00",
          "position": 1095.800049
         },
         {
          "action": "HOLD",
          "actual": 1053.150024,
          "date": "2018-03-22T00:00:00",
          "position": 1094
         },
         {
          "action": "HOLD",
          "actual": 1026.550049,
          "date": "2018-03-23T00:00:00",
          "position": 1053.150024
         },
         {
          "action": "HOLD",
          "actual": 1054.089966,
          "date": "2018-03-26T00:00:00",
          "position": 1026.550049
         },
         {
          "action": "SELL",
          "actual": 1006.9400019999999,
          "date": "2018-03-27T00:00:00",
          "position": 1054.089966
         },
         {
          "action": "SELL",
          "actual": 1005.179993,
          "date": "2018-03-28T00:00:00",
          "position": 1006.9400019999999
         },
         {
          "action": "HOLD",
          "actual": 1037.140015,
          "date": "2018-03-29T00:00:00",
          "position": 1005.179993
         },
         {
          "action": "SELL",
          "actual": 1012.6300050000001,
          "date": "2018-04-02T00:00:00",
          "position": 1037.140015
         },
         {
          "action": "SELL",
          "actual": 1018.679993,
          "date": "2018-04-03T00:00:00",
          "position": 1012.6300050000001
         },
         {
          "action": "HOLD",
          "actual": 1029.709961,
          "date": "2018-04-04T00:00:00",
          "position": 1018.679993
         },
         {
          "action": "HOLD",
          "actual": 1032.640015,
          "date": "2018-04-05T00:00:00",
          "position": 1029.709961
         },
         {
          "action": "HOLD",
          "actual": 1009.9500119999999,
          "date": "2018-04-06T00:00:00",
          "position": 1032.640015
         },
         {
          "action": "BUY",
          "actual": 1020.090027,
          "date": "2018-04-09T00:00:00",
          "position": 1009.9500119999999
         },
         {
          "action": "BUY",
          "actual": 1036.5,
          "date": "2018-04-10T00:00:00",
          "position": 1020.090027
         },
         {
          "action": "BUY",
          "actual": 1025.060059,
          "date": "2018-04-11T00:00:00",
          "position": 1036.5
         },
         {
          "action": "SELL",
          "actual": 1037.290039,
          "date": "2018-04-12T00:00:00",
          "position": 1025.060059
         },
         {
          "action": "BUY",
          "actual": 1036.040039,
          "date": "2018-04-13T00:00:00",
          "position": 1037.290039
         },
         {
          "action": "BUY",
          "actual": 1046.099976,
          "date": "2018-04-16T00:00:00",
          "position": 1036.040039
         },
         {
          "action": "SELL",
          "actual": 1079.359985,
          "date": "2018-04-17T00:00:00",
          "position": 1046.099976
         },
         {
          "action": "SELL",
          "actual": 1075.390015,
          "date": "2018-04-18T00:00:00",
          "position": 1079.359985
         },
         {
          "action": "SELL",
          "actual": 1089.449951,
          "date": "2018-04-19T00:00:00",
          "position": 1075.390015
         },
         {
          "action": "BUY",
          "actual": 1077.319946,
          "date": "2018-04-20T00:00:00",
          "position": 1089.449951
         },
         {
          "action": "BUY",
          "actual": 1073.810059,
          "date": "2018-04-23T00:00:00",
          "position": 1077.319946
         },
         {
          "action": "BUY",
          "actual": 1022.6400150000001,
          "date": "2018-04-24T00:00:00",
          "position": 1073.810059
         },
         {
          "action": "BUY",
          "actual": 1022.98999,
          "date": "2018-04-25T00:00:00",
          "position": 1022.6400150000001
         },
         {
          "action": "HOLD",
          "actual": 1043.310059,
          "date": "2018-04-26T00:00:00",
          "position": 1022.98999
         },
         {
          "action": "SELL",
          "actual": 1031.449951,
          "date": "2018-04-27T00:00:00",
          "position": 1043.310059
         },
         {
          "action": "SELL",
          "actual": 1018.580017,
          "date": "2018-04-30T00:00:00",
          "position": 1031.449951
         },
         {
          "action": "BUY",
          "actual": 1040.75,
          "date": "2018-05-01T00:00:00",
          "position": 1018.580017
         },
         {
          "action": "SELL",
          "actual": 1026.050049,
          "date": "2018-05-02T00:00:00",
          "position": 1040.75
         },
         {
          "action": "SELL",
          "actual": 1026.300049,
          "date": "2018-05-03T00:00:00",
          "position": 1026.050049
         },
         {
          "action": "SELL",
          "actual": 1051,
          "date": "2018-05-04T00:00:00",
          "position": 1026.300049
         },
         {
          "action": "SELL",
          "actual": 1059.459961,
          "date": "2018-05-07T00:00:00",
          "position": 1051
         },
         {
          "action": "HOLD",
          "actual": 1058.589966,
          "date": "2018-05-08T00:00:00",
          "position": 1059.459961
         },
         {
          "action": "HOLD",
          "actual": 1088.949951,
          "date": "2018-05-09T00:00:00",
          "position": 1058.589966
         },
         {
          "action": "BUY",
          "actual": 1105.469971,
          "date": "2018-05-10T00:00:00",
          "position": 1088.949951
         },
         {
          "action": "BUY",
          "actual": 1103.380005,
          "date": "2018-05-11T00:00:00",
          "position": 1105.469971
         },
         {
          "action": "SELL",
          "actual": 1106.599976,
          "date": "2018-05-14T00:00:00",
          "position": 1103.380005
         },
         {
          "action": "BUY",
          "actual": 1084.869995,
          "date": "2018-05-15T00:00:00",
          "position": 1106.599976
         },
         {
          "action": "BUY",
          "actual": 1084.089966,
          "date": "2018-05-16T00:00:00",
          "position": 1084.869995
         },
         {
          "action": "BUY",
          "actual": 1081.26001,
          "date": "2018-05-17T00:00:00",
          "position": 1084.089966
         },
         {
          "action": "BUY",
          "actual": 1069.640015,
          "date": "2018-05-18T00:00:00",
          "position": 1081.26001
         },
         {
          "action": "HOLD",
          "actual": 1084.01001,
          "date": "2018-05-21T00:00:00",
          "position": 1069.640015
         },
         {
          "action": "SELL",
          "actual": 1075.310059,
          "date": "2018-05-22T00:00:00",
          "position": 1084.01001
         },
         {
          "action": "HOLD",
          "actual": 1085.959961,
          "date": "2018-05-23T00:00:00",
          "position": 1075.310059
         },
         {
          "action": "SELL",
          "actual": 1085.449951,
          "date": "2018-05-24T00:00:00",
          "position": 1085.959961
         },
         {
          "action": "SELL",
          "actual": 1084.079956,
          "date": "2018-05-25T00:00:00",
          "position": 1085.449951
         },
         {
          "action": "BUY",
          "actual": 1068.069946,
          "date": "2018-05-29T00:00:00",
          "position": 1084.079956
         },
         {
          "action": "BUY",
          "actual": 1077.469971,
          "date": "2018-05-30T00:00:00",
          "position": 1068.069946
         },
         {
          "action": "SELL",
          "actual": 1100,
          "date": "2018-05-31T00:00:00",
          "position": 1077.469971
         },
         {
          "action": "SELL",
          "actual": 1135,
          "date": "2018-06-01T00:00:00",
          "position": 1100
         },
         {
          "action": "SELL",
          "actual": 1153.040039,
          "date": "2018-06-04T00:00:00",
          "position": 1135
         },
         {
          "action": "SELL",
          "actual": 1151.02002,
          "date": "2018-06-05T00:00:00",
          "position": 1153.040039
         },
         {
          "action": "BUY",
          "actual": 1146.949951,
          "date": "2018-06-06T00:00:00",
          "position": 1151.02002
         },
         {
          "action": "BUY",
          "actual": 1134.420044,
          "date": "2018-06-07T00:00:00",
          "position": 1146.949951
         },
         {
          "action": "BUY",
          "actual": 1132.709961,
          "date": "2018-06-08T00:00:00",
          "position": 1134.420044
         },
         {
          "action": "HOLD",
          "actual": 1140.900024,
          "date": "2018-06-11T00:00:00",
          "position": 1132.709961
         },
         {
          "action": "SELL",
          "actual": 1148.189941,
          "date": "2018-06-12T00:00:00",
          "position": 1140.900024
         },
         {
          "action": "SELL",
          "actual": 1144.22998,
          "date": "2018-06-13T00:00:00",
          "position": 1148.189941
         },
         {
          "action": "SELL",
          "actual": 1160.109985,
          "date": "2018-06-14T00:00:00",
          "position": 1144.22998
         },
         {
          "action": "HOLD",
          "actual": 1159.27002,
          "date": "2018-06-15T00:00:00",
          "position": 1160.109985
         },
         {
          "action": "BUY",
          "actual": 1183.579956,
          "date": "2018-06-18T00:00:00",
          "position": 1159.27002
         },
         {
          "action": "SELL",
          "actual": 1178.689941,
          "date": "2018-06-19T00:00:00",
          "position": 1183.579956
         },
         {
          "action": "HOLD",
          "actual": 1184.069946,
          "date": "2018-06-20T00:00:00",
          "position": 1178.689941
         },
         {
          "action": "BUY",
          "actual": 1169.439941,
          "date": "2018-06-21T00:00:00",
          "position": 1184.069946
         },
         {
          "action": "BUY",
          "actual": 1169.290039,
          "date": "2018-06-22T00:00:00",
          "position": 1169.439941
         },
         {
          "action": "SELL",
          "actual": 1139.280029,
          "date": "2018-06-25T00:00:00",
          "position": 1169.290039
         },
         {
          "action": "BUY",
          "actual": 1132.619995,
          "date": "2018-06-26T00:00:00",
          "position": 1139.280029
         },
         {
          "action": "BUY",
          "actual": 1116.939941,
          "date": "2018-06-27T00:00:00",
          "position": 1132.619995
         },
         {
          "action": "BUY",
          "actual": 1126.780029,
          "date": "2018-06-28T00:00:00",
          "position": 1116.939941
         },
         {
          "action": "SELL",
          "actual": 1129.189941,
          "date": "2018-06-29T00:00:00",
          "position": 1126.780029
         },
         {
          "action": "SELL",
          "actual": 1142.109985,
          "date": "2018-07-02T00:00:00",
          "position": 1129.189941
         },
         {
          "action": "SELL",
          "actual": 1116.280029,
          "date": "2018-07-03T00:00:00",
          "position": 1142.109985
         },
         {
          "action": "SELL",
          "actual": 1141.290039,
          "date": "2018-07-05T00:00:00",
          "position": 1116.280029
         },
         {
          "action": "BUY",
          "actual": 1155.079956,
          "date": "2018-07-06T00:00:00",
          "position": 1141.290039
         },
         {
          "action": "SELL",
          "actual": 1167.280029,
          "date": "2018-07-09T00:00:00",
          "position": 1155.079956
         },
         {
          "action": "HOLD",
          "actual": 1167.140015,
          "date": "2018-07-10T00:00:00",
          "position": 1167.280029
         },
         {
          "action": "BUY",
          "actual": 1171.459961,
          "date": "2018-07-11T00:00:00",
          "position": 1167.140015
         },
         {
          "action": "BUY",
          "actual": 1201.26001,
          "date": "2018-07-12T00:00:00",
          "position": 1171.459961
         },
         {
          "action": "BUY",
          "actual": 1204.420044,
          "date": "2018-07-13T00:00:00",
          "position": 1201.26001
         },
         {
          "action": "SELL",
          "actual": 1196.51001,
          "date": "2018-07-16T00:00:00",
          "position": 1204.420044
         },
         {
          "action": "BUY",
          "actual": 1213.079956,
          "date": "2018-07-17T00:00:00",
          "position": 1196.51001
         },
         {
          "action": "BUY",
          "actual": 1212.910034,
          "date": "2018-07-18T00:00:00",
          "position": 1213.079956
         },
         {
          "action": "BUY",
          "actual": 1199.099976,
          "date": "2018-07-19T00:00:00",
          "position": 1212.910034
         },
         {
          "action": "SELL",
          "actual": 1197.880005,
          "date": "2018-07-20T00:00:00",
          "position": 1199.099976
         },
         {
          "action": "BUY",
          "actual": 1211,
          "date": "2018-07-23T00:00:00",
          "position": 1197.880005
         },
         {
          "action": "BUY",
          "actual": 1258.150024,
          "date": "2018-07-24T00:00:00",
          "position": 1211
         },
         {
          "action": "SELL",
          "actual": 1275.939941,
          "date": "2018-07-25T00:00:00",
          "position": 1258.150024
         },
         {
          "action": "SELL",
          "actual": 1285.5,
          "date": "2018-07-26T00:00:00",
          "position": 1275.939941
         },
         {
          "action": "SELL",
          "actual": 1252.890015,
          "date": "2018-07-27T00:00:00",
          "position": 1285.5
         },
         {
          "action": "BUY",
          "actual": 1230.040039,
          "date": "2018-07-30T00:00:00",
          "position": 1252.890015
         },
         {
          "action": "BUY",
          "actual": 1227.219971,
          "date": "2018-07-31T00:00:00",
          "position": 1230.040039
         },
         {
          "action": "BUY",
          "actual": 1232.98999,
          "date": "2018-08-01T00:00:00",
          "position": 1227.219971
         },
         {
          "action": "SELL",
          "actual": 1241.130005,
          "date": "2018-08-02T00:00:00",
          "position": 1232.98999
         },
         {
          "action": "SELL",
          "actual": 1238.160034,
          "date": "2018-08-03T00:00:00",
          "position": 1241.130005
         },
         {
          "action": "SELL",
          "actual": 1237.670044,
          "date": "2018-08-06T00:00:00",
          "position": 1238.160034
         },
         {
          "action": "BUY",
          "actual": 1255.839966,
          "date": "2018-08-07T00:00:00",
          "position": 1237.670044
         },
         {
          "action": "SELL",
          "actual": 1261.329956,
          "date": "2018-08-08T00:00:00",
          "position": 1255.839966
         },
         {
          "action": "SELL",
          "actual": 1264.459961,
          "date": "2018-08-09T00:00:00",
          "position": 1261.329956
         },
         {
          "action": "SELL",
          "actual": 1252.51001,
          "date": "2018-08-10T00:00:00",
          "position": 1264.459961
         }
        ]
       },
       "height": 300,
       "layer": [
        {
         "data": {
          "name": "data-c2d2a4e04dd28ffdd8f7341b043bb2af"
         },
         "encoding": {
          "x": {
           "field": "date",
           "type": "temporal"
          },
          "y": {
           "axis": {
            "format": "$.2f",
            "title": "Price"
           },
           "field": "position",
           "scale": {
            "clamp": true,
            "domain": [
             870.8699949999999,
             1335.5
            ]
           },
           "type": "quantitative"
          }
         },
         "mark": {
          "color": "green",
          "opacity": 0.5,
          "type": "line"
         },
         "selection": {
          "selector064": {
           "bind": "scales",
           "encodings": [
            "x"
           ],
           "mark": {
            "fill": "#333",
            "fillOpacity": 0.125,
            "stroke": "white"
           },
           "on": "[mousedown, window:mouseup] > window:mousemove!",
           "resolve": "global",
           "translate": "[mousedown, window:mouseup] > window:mousemove!",
           "type": "interval",
           "zoom": "wheel!"
          }
         }
        },
        {
         "data": {
          "name": "data-c2d2a4e04dd28ffdd8f7341b043bb2af"
         },
         "encoding": {
          "color": {
           "field": "action",
           "type": "nominal"
          },
          "x": {
           "axis": {
            "title": "Date"
           },
           "field": "date",
           "type": "temporal"
          },
          "y": {
           "axis": {
            "format": "$.2f",
            "title": "Price"
           },
           "field": "position",
           "scale": {
            "clamp": true,
            "domain": [
             870.8699949999999,
             1335.5
            ]
           },
           "type": "quantitative"
          }
         },
         "mark": {
          "filled": true,
          "type": "point"
         },
         "selection": {
          "selector065": {
           "bind": "scales",
           "encodings": [
            "x"
           ],
           "mark": {
            "fill": "#333",
            "fillOpacity": 0.125,
            "stroke": "white"
           },
           "on": "[mousedown, window:mouseup] > window:mousemove!",
           "resolve": "global",
           "translate": "[mousedown, window:mouseup] > window:mousemove!",
           "type": "interval",
           "zoom": "wheel!"
          }
         },
         "transform": [
          {
           "filter": "(datum.action !== 'HOLD')"
          }
         ]
        }
       ],
       "title": "data/GOOGL_2018.csv",
       "width": 1000
      },
      "image/png": "[encoded data removed]",
      "text/plain": [
       "<VegaLite 2 object>\n",
       "\n",
       "If you see this message, it means the renderer has not been properly enabled\n",
       "for the frontend that you are using. For more information, see\n",
       "https://altair-viz.github.io/user_guide/troubleshooting.html\n"
      ]
     },
     "execution_count": 80,
     "metadata": {},
     "output_type": "execute_result"
    }
   ],
   "source": [
    "val_result, history = evaluate_model(agent, val_data, window_size, debug)\n",
    "show_eval_result(model_name, val_result, initial_offset)\n",
    "chart = visualize(df, history)\n",
    "chart"
   ]
  },
  {
   "cell_type": "code",
   "execution_count": null,
   "metadata": {},
   "outputs": [],
   "source": []
  }
 ],
 "metadata": {
  "kernelspec": {
   "display_name": "Python 3",
   "language": "python",
   "name": "python3"
  },
  "language_info": {
   "codemirror_mode": {
    "name": "ipython",
    "version": 3
   },
   "file_extension": ".py",
   "mimetype": "text/x-python",
   "name": "python",
   "nbconvert_exporter": "python",
   "pygments_lexer": "ipython3",
   "version": "3.7.4"
  }
 },
 "nbformat": 4,
 "nbformat_minor": 2
}